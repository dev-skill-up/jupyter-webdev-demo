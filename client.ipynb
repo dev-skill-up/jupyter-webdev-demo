{
 "cells": [
  {
   "cell_type": "code",
   "execution_count": 1,
   "id": "53dd9547-25cb-4924-b788-daa20951efa5",
   "metadata": {},
   "outputs": [],
   "source": [
    "import httpx"
   ]
  },
  {
   "cell_type": "code",
   "execution_count": 2,
   "id": "660a1cbd-c39f-4099-baa5-ed37aef2f72a",
   "metadata": {},
   "outputs": [],
   "source": [
    "def process(res):\n",
    "    try:\n",
    "        res.raise_for_status()\n",
    "    except Exception as exc:\n",
    "        return repr(exc)\n",
    "    return res.json()"
   ]
  },
  {
   "cell_type": "code",
   "execution_count": 12,
   "id": "b15ab663-415e-4c4f-a861-1bc286f88802",
   "metadata": {},
   "outputs": [
    {
     "data": {
      "text/plain": [
       "{'value': 5}"
      ]
     },
     "execution_count": 12,
     "metadata": {},
     "output_type": "execute_result"
    }
   ],
   "source": [
    "process(httpx.get(\"http://localhost:8080\"))"
   ]
  },
  {
   "cell_type": "code",
   "execution_count": 8,
   "id": "0e6a3614-19a3-4a31-ba5a-13efd68698ac",
   "metadata": {},
   "outputs": [
    {
     "data": {
      "text/plain": [
       "{'value': 9}"
      ]
     },
     "execution_count": 8,
     "metadata": {},
     "output_type": "execute_result"
    }
   ],
   "source": [
    "process(httpx.get(\"http://localhost:8080/len/hellomatt\"))"
   ]
  },
  {
   "cell_type": "code",
   "execution_count": null,
   "id": "845de669-d239-4088-8327-b3fea7a72cb3",
   "metadata": {},
   "outputs": [],
   "source": []
  }
 ],
 "metadata": {
  "kernelspec": {
   "display_name": "jupyter-webdev",
   "language": "python",
   "name": "jupyter-webdev-venv"
  },
  "language_info": {
   "codemirror_mode": {
    "name": "ipython",
    "version": 3
   },
   "file_extension": ".py",
   "mimetype": "text/x-python",
   "name": "python",
   "nbconvert_exporter": "python",
   "pygments_lexer": "ipython3",
   "version": "3.10.7"
  }
 },
 "nbformat": 4,
 "nbformat_minor": 5
}
