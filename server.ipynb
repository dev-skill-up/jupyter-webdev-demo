{
 "cells": [
  {
   "cell_type": "code",
   "execution_count": 1,
   "id": "64d04401-7e5d-46b2-b9c1-613fe8709e35",
   "metadata": {
    "tags": []
   },
   "outputs": [],
   "source": [
    "import asyncio\n",
    "import json\n",
    "from twisted.internet import asyncioreactor\n",
    "asyncioreactor.install(asyncio.get_event_loop())\n"
   ]
  },
  {
   "cell_type": "code",
   "execution_count": 2,
   "id": "15751850-a574-49a4-a6fd-94528cb0c4ca",
   "metadata": {},
   "outputs": [],
   "source": [
    "from twisted.internet import reactor, endpoints\n",
    "from twisted.web.server import Site\n",
    "from klein import resource, route"
   ]
  },
  {
   "cell_type": "code",
   "execution_count": 3,
   "id": "e6b9df55-36a4-47e1-9f3e-d0072fdcdb6e",
   "metadata": {},
   "outputs": [],
   "source": [
    "def jsonify(stuff):\n",
    "    return json.dumps(stuff).encode(\"ascii\")"
   ]
  },
  {
   "cell_type": "code",
   "execution_count": 4,
   "id": "880cbd96-7631-484e-b245-8fcdf65cfa4c",
   "metadata": {},
   "outputs": [],
   "source": [
    "endpoint_description = \"tcp:port=8080:interface=127.0.0.1\"\n",
    "endpoint = endpoints.serverFromString(reactor, endpoint_description)"
   ]
  },
  {
   "cell_type": "code",
   "execution_count": 5,
   "id": "4a2331e6-1bad-409d-8ebb-f10fa2442062",
   "metadata": {},
   "outputs": [
    {
     "data": {
      "text/plain": [
       "<Deferred at 0xffff903848b0 current result: <<class 'twisted.internet.tcp.Port'> of <class 'twisted.web.server.Site'> on 8080>>"
      ]
     },
     "execution_count": 5,
     "metadata": {},
     "output_type": "execute_result"
    }
   ],
   "source": [
    "endpoint.listen(Site(resource()))"
   ]
  },
  {
   "cell_type": "code",
   "execution_count": 6,
   "id": "b42c2d59-e492-4804-bfd7-681923156cbd",
   "metadata": {},
   "outputs": [],
   "source": [
    "@route(\"/\")\n",
    "def home(request):\n",
    "    return jsonify(dict(value=5))"
   ]
  },
  {
   "cell_type": "code",
   "execution_count": 8,
   "id": "0b392c20-9808-466c-a356-f5fabf0f9500",
   "metadata": {},
   "outputs": [],
   "source": [
    "@route(\"/len/<thing>\")\n",
    "def do_len(request, thing):\n",
    "    global the_thing\n",
    "    the_thing = thing\n",
    "    return jsonify(dict(value=len(thing)))\n"
   ]
  },
  {
   "cell_type": "code",
   "execution_count": 11,
   "id": "9fb22093-bf5b-4828-a212-19311422af8b",
   "metadata": {},
   "outputs": [],
   "source": [
    "the_value = 78"
   ]
  },
  {
   "cell_type": "code",
   "execution_count": 12,
   "id": "cdea705f-4094-4a2a-adb2-18eced907cc4",
   "metadata": {},
   "outputs": [],
   "source": [
    "@route(\"/\")\n",
    "def home(request):\n",
    "    return jsonify(dict(value=the_value))"
   ]
  },
  {
   "cell_type": "code",
   "execution_count": 13,
   "id": "2f77137d-e4db-4ad6-a0a3-6fc5e14a0c04",
   "metadata": {},
   "outputs": [],
   "source": [
    "the_value = 13"
   ]
  },
  {
   "cell_type": "code",
   "execution_count": null,
   "id": "c0ef7574-c2c4-4799-86ce-6e5397d03c94",
   "metadata": {},
   "outputs": [],
   "source": []
  }
 ],
 "metadata": {
  "kernelspec": {
   "display_name": "jupyter-webdev",
   "language": "python",
   "name": "jupyter-webdev-venv"
  },
  "language_info": {
   "codemirror_mode": {
    "name": "ipython",
    "version": 3
   },
   "file_extension": ".py",
   "mimetype": "text/x-python",
   "name": "python",
   "nbconvert_exporter": "python",
   "pygments_lexer": "ipython3",
   "version": "3.10.7"
  }
 },
 "nbformat": 4,
 "nbformat_minor": 5
}
