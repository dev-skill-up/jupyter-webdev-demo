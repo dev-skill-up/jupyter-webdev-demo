{
 "cells": [
  {
   "cell_type": "markdown",
   "id": "57d03559-4955-4105-a0b5-65410a6aa83f",
   "metadata": {},
   "source": [
    "# Interactive server with Jupyter and Klein\n",
    "\n",
    "This creates a webserver step by step.\n",
    "\n",
    "The first step is to install the\n",
    "`asyncio`\n",
    "kernel:"
   ]
  },
  {
   "cell_type": "code",
   "execution_count": 1,
   "id": "fbb024a7-2299-4b31-823a-063e3360f838",
   "metadata": {
    "tags": []
   },
   "outputs": [],
   "source": [
    "from twisted.internet import asyncioreactor\n",
    "asyncioreactor.install(asyncio.get_event_loop())"
   ]
  },
  {
   "cell_type": "markdown",
   "id": "6a07a2ef-f600-4989-9742-93fae0e41113",
   "metadata": {},
   "source": [
    "It is important to do this first.\n",
    "The Twisted native kernel gets installed\n",
    "if you breath on Twisted too hard."
   ]
  },
  {
   "cell_type": "code",
   "execution_count": 2,
   "id": "aa327ddf-7909-462f-916c-f71c5d65d434",
   "metadata": {},
   "outputs": [],
   "source": [
    "import asyncio\n",
    "import json\n",
    "\n",
    "from twisted.internet import reactor, endpoints\n",
    "from twisted.web.server import Site\n",
    "from klein import resource, route"
   ]
  },
  {
   "cell_type": "markdown",
   "id": "13f2f3fc-19cc-4f66-9af5-4bd2d0a97992",
   "metadata": {},
   "source": [
    "After this was done,\n",
    "import the modules that are actually being used.\n",
    "Also useful to define a\n",
    "`jsonify`\n",
    "function\n",
    "so that the route-specific code\n",
    "can be simpler:"
   ]
  },
  {
   "cell_type": "code",
   "execution_count": 3,
   "id": "e6b9df55-36a4-47e1-9f3e-d0072fdcdb6e",
   "metadata": {},
   "outputs": [],
   "source": [
    "def jsonify(stuff):\n",
    "    return json.dumps(stuff).encode(\"ascii\")"
   ]
  },
  {
   "cell_type": "markdown",
   "id": "3fd7108a-6c82-4aa6-b359-ead38bd32584",
   "metadata": {},
   "source": [
    "Next,\n",
    "define the\n",
    "`endpoint`\n",
    "on which klein will listen:"
   ]
  },
  {
   "cell_type": "code",
   "execution_count": 4,
   "id": "880cbd96-7631-484e-b245-8fcdf65cfa4c",
   "metadata": {},
   "outputs": [],
   "source": [
    "endpoint_description = \"tcp:port=8080:interface=127.0.0.1\"\n",
    "endpoint = endpoints.serverFromString(reactor, endpoint_description)"
   ]
  },
  {
   "cell_type": "markdown",
   "id": "5d7dcc4d-1bf2-4024-93e0-00e6bc7d5952",
   "metadata": {},
   "source": [
    "Klein has more reasonable APIs.\n",
    "but the simplest is the\n",
    "\"global\" one.\n",
    "This has the endpoint listening on a\n",
    "`Site`\n",
    "which serves\n",
    "Klein's global resource."
   ]
  },
  {
   "cell_type": "code",
   "execution_count": 5,
   "id": "4a2331e6-1bad-409d-8ebb-f10fa2442062",
   "metadata": {},
   "outputs": [
    {
     "data": {
      "text/plain": [
       "<Deferred at 0xffff903848b0 current result: <<class 'twisted.internet.tcp.Port'> of <class 'twisted.web.server.Site'> on 8080>>"
      ]
     },
     "execution_count": 5,
     "metadata": {},
     "output_type": "execute_result"
    }
   ],
   "source": [
    "endpoint.listen(Site(resource()))"
   ]
  },
  {
   "cell_type": "markdown",
   "id": "acd77490-e286-4edf-9858-4c8669490708",
   "metadata": {},
   "source": [
    "At this point,\n",
    "the server is running.\n",
    "It will return a\n",
    "`404 Not Found`\n",
    "for any route,\n",
    "because it does not have any.\n",
    "Try it!\n",
    "\n",
    "Now,\n",
    "a static value at the root:"
   ]
  },
  {
   "cell_type": "code",
   "execution_count": 6,
   "id": "b42c2d59-e492-4804-bfd7-681923156cbd",
   "metadata": {},
   "outputs": [],
   "source": [
    "@route(\"/\")\n",
    "def home(request):\n",
    "    return jsonify(dict(value=5))"
   ]
  },
  {
   "cell_type": "markdown",
   "id": "756cffb2-0788-45ed-973f-92e1bfeab3c3",
   "metadata": {},
   "source": [
    "Going to\n",
    "`http://localhost:8080`\n",
    "will now return the json value.\n",
    "\n",
    "Next,\n",
    "a route that runs a dynamic computation:"
   ]
  },
  {
   "cell_type": "code",
   "execution_count": 8,
   "id": "0b392c20-9808-466c-a356-f5fabf0f9500",
   "metadata": {},
   "outputs": [],
   "source": [
    "@route(\"/len/<thing>\")\n",
    "def do_len(request, thing):\n",
    "    global the_thing\n",
    "    the_thing = thing\n",
    "    return jsonify(dict(value=len(thing)))\n"
   ]
  },
  {
   "cell_type": "markdown",
   "id": "37138a03-a155-4951-b9b5-50befc8ece07",
   "metadata": {},
   "source": [
    "Not sure why the length was returned like it was?\n",
    "`the_thing`\n",
    "global variable will hold the last value passed,\n",
    "inspect as appropriate."
   ]
  },
  {
   "cell_type": "markdown",
   "id": "f1caedf3-601a-442b-a3ca-19a060063dd7",
   "metadata": {},
   "source": [
    "Dynamically change the root route\n",
    "to return a value based on a global variable:"
   ]
  },
  {
   "cell_type": "code",
   "execution_count": 11,
   "id": "9fb22093-bf5b-4828-a212-19311422af8b",
   "metadata": {},
   "outputs": [],
   "source": [
    "the_value = 78"
   ]
  },
  {
   "cell_type": "code",
   "execution_count": 12,
   "id": "cdea705f-4094-4a2a-adb2-18eced907cc4",
   "metadata": {},
   "outputs": [],
   "source": [
    "@route(\"/\")\n",
    "def home(request):\n",
    "    return jsonify(dict(value=the_value))"
   ]
  },
  {
   "cell_type": "markdown",
   "id": "e40c805f-258b-43c8-ad26-d5606655720a",
   "metadata": {},
   "source": [
    "When changing the global variable,\n",
    "the new value will be returned:"
   ]
  },
  {
   "cell_type": "code",
   "execution_count": 13,
   "id": "2f77137d-e4db-4ad6-a0a3-6fc5e14a0c04",
   "metadata": {},
   "outputs": [],
   "source": [
    "the_value = 13"
   ]
  },
  {
   "cell_type": "code",
   "execution_count": null,
   "id": "c0ef7574-c2c4-4799-86ce-6e5397d03c94",
   "metadata": {},
   "outputs": [],
   "source": []
  }
 ],
 "metadata": {
  "kernelspec": {
   "display_name": "jupyter-webdev",
   "language": "python",
   "name": "jupyter-webdev-venv"
  },
  "language_info": {
   "codemirror_mode": {
    "name": "ipython",
    "version": 3
   },
   "file_extension": ".py",
   "mimetype": "text/x-python",
   "name": "python",
   "nbconvert_exporter": "python",
   "pygments_lexer": "ipython3",
   "version": "3.10.7"
  }
 },
 "nbformat": 4,
 "nbformat_minor": 5
}
